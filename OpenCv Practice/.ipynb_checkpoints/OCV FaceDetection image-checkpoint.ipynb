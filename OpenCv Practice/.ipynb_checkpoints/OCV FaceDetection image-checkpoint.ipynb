{
 "cells": [
  {
   "cell_type": "code",
   "execution_count": 1,
   "id": "c669f5c8",
   "metadata": {},
   "outputs": [
    {
     "ename": "ModuleNotFoundError",
     "evalue": "No module named 'cv2'",
     "output_type": "error",
     "traceback": [
      "\u001b[0;31m---------------------------------------------------------------------------\u001b[0m",
      "\u001b[0;31mModuleNotFoundError\u001b[0m                       Traceback (most recent call last)",
      "\u001b[0;32m<ipython-input-1-4948d185e153>\u001b[0m in \u001b[0;36m<module>\u001b[0;34m\u001b[0m\n\u001b[0;32m----> 1\u001b[0;31m \u001b[0;32mimport\u001b[0m \u001b[0mcv2\u001b[0m \u001b[0;32mas\u001b[0m \u001b[0mcv\u001b[0m\u001b[0;34m\u001b[0m\u001b[0;34m\u001b[0m\u001b[0m\n\u001b[0m\u001b[1;32m      2\u001b[0m \u001b[0;32mimport\u001b[0m \u001b[0mnumpy\u001b[0m \u001b[0;32mas\u001b[0m \u001b[0mnp\u001b[0m\u001b[0;34m\u001b[0m\u001b[0;34m\u001b[0m\u001b[0m\n\u001b[1;32m      3\u001b[0m \u001b[0;32mimport\u001b[0m \u001b[0mmatplotlib\u001b[0m\u001b[0;34m.\u001b[0m\u001b[0mpyplot\u001b[0m \u001b[0;32mas\u001b[0m \u001b[0mplt\u001b[0m\u001b[0;34m\u001b[0m\u001b[0;34m\u001b[0m\u001b[0m\n\u001b[1;32m      4\u001b[0m \u001b[0;34m\u001b[0m\u001b[0m\n\u001b[1;32m      5\u001b[0m \u001b[0;32mimport\u001b[0m \u001b[0margparse\u001b[0m\u001b[0;34m\u001b[0m\u001b[0;34m\u001b[0m\u001b[0m\n",
      "\u001b[0;31mModuleNotFoundError\u001b[0m: No module named 'cv2'"
     ]
    }
   ],
   "source": [
    "import cv2 as cv\n",
    "import numpy as np\n",
    "import matplotlib.pyplot as plt\n",
    "\n",
    "import argparse\n",
    "import imutils"
   ]
  },
  {
   "cell_type": "code",
   "execution_count": null,
   "id": "6da381c6",
   "metadata": {},
   "outputs": [],
   "source": [
    "def show_image(img):\n",
    "    cv.imshow('Image',img)\n",
    "    cv.waitKey(0)\n",
    "    cv.destroyAllWindows()"
   ]
  },
  {
   "cell_type": "code",
   "execution_count": null,
   "id": "aecaf7f2",
   "metadata": {},
   "outputs": [],
   "source": [
    "'''\n",
    "ap = argparse.ArgumentParser()\n",
    "ap.add_argument('-i', '--image', type=str, required=True, \n",
    "                help='path to input image')\n",
    "ap.add_argument('-c', '--cascade', type=str, \n",
    "                default='haarcascade_frontalface_default.xml',\n",
    "               help='path to haar cascade face detector')\n",
    "args = vars(ap.parse_args())\n",
    "'''"
   ]
  },
  {
   "cell_type": "code",
   "execution_count": null,
   "id": "12bb3db0",
   "metadata": {},
   "outputs": [],
   "source": [
    "image = cv.imread('images/mads.jpg', cv.IMREAD_COLOR)\n",
    "cascade_name = cv.data.haarcascades + 'haarcascade_frontalface_default.xml'"
   ]
  },
  {
   "cell_type": "code",
   "execution_count": null,
   "id": "de8a98dd",
   "metadata": {},
   "outputs": [],
   "source": [
    "detector = cv.CascadeClassifier(cascade_name)\n",
    "image = imutils.resize(image, width=500)\n",
    "gray = cv.cvtColor(image, cv.COLOR_BGR2GRAY)"
   ]
  },
  {
   "cell_type": "code",
   "execution_count": null,
   "id": "0d2810e2",
   "metadata": {},
   "outputs": [],
   "source": [
    "print(\"///INFO/// -Performing face detection...\")\n",
    "rects = detector.detectMultiScale(gray, scaleFactor = 1.15,\n",
    "                                 minNeighbors=10, minSize=(30, 30),\n",
    "                                 flags=cv.CASCADE_SCALE_IMAGE)\n",
    "print(\"///INFO/// %i faces found\" %len(rects))"
   ]
  },
  {
   "cell_type": "code",
   "execution_count": null,
   "id": "644f6a15",
   "metadata": {},
   "outputs": [],
   "source": [
    "for (x, y, w, h) in rects:\n",
    "    cv.rectangle(image, (x, y), (x+w, y+h), (0, 255, 0), 2)\n",
    "show_image(image)"
   ]
  },
  {
   "cell_type": "code",
   "execution_count": null,
   "id": "76f591fa",
   "metadata": {},
   "outputs": [],
   "source": []
  }
 ],
 "metadata": {
  "kernelspec": {
   "display_name": "Python 3 (ipykernel)",
   "language": "python",
   "name": "python3"
  },
  "language_info": {
   "codemirror_mode": {
    "name": "ipython",
    "version": 3
   },
   "file_extension": ".py",
   "mimetype": "text/x-python",
   "name": "python",
   "nbconvert_exporter": "python",
   "pygments_lexer": "ipython3",
   "version": "3.9.12"
  }
 },
 "nbformat": 4,
 "nbformat_minor": 5
}
