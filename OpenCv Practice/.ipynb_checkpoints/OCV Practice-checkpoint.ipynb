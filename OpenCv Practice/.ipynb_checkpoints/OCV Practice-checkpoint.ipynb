{
 "cells": [
  {
   "cell_type": "code",
   "execution_count": 1,
   "id": "10021063",
   "metadata": {},
   "outputs": [
    {
     "ename": "ModuleNotFoundError",
     "evalue": "No module named 'cv2'",
     "output_type": "error",
     "traceback": [
      "\u001b[0;31m---------------------------------------------------------------------------\u001b[0m",
      "\u001b[0;31mModuleNotFoundError\u001b[0m                       Traceback (most recent call last)",
      "Input \u001b[0;32mIn [1]\u001b[0m, in \u001b[0;36m<cell line: 1>\u001b[0;34m()\u001b[0m\n\u001b[0;32m----> 1\u001b[0m \u001b[38;5;28;01mimport\u001b[39;00m \u001b[38;5;21;01mcv2\u001b[39;00m \u001b[38;5;28;01mas\u001b[39;00m \u001b[38;5;21;01mcv\u001b[39;00m\n\u001b[1;32m      2\u001b[0m \u001b[38;5;28;01mimport\u001b[39;00m \u001b[38;5;21;01mmatplotlib\u001b[39;00m\u001b[38;5;21;01m.\u001b[39;00m\u001b[38;5;21;01mpyplot\u001b[39;00m \u001b[38;5;28;01mas\u001b[39;00m \u001b[38;5;21;01mplt\u001b[39;00m\n\u001b[1;32m      3\u001b[0m \u001b[38;5;28;01mimport\u001b[39;00m \u001b[38;5;21;01mnumpy\u001b[39;00m \u001b[38;5;28;01mas\u001b[39;00m \u001b[38;5;21;01mnp\u001b[39;00m\n",
      "\u001b[0;31mModuleNotFoundError\u001b[0m: No module named 'cv2'"
     ]
    }
   ],
   "source": [
    "import cv2 as cv\n",
    "import matplotlib.pyplot as plt\n",
    "import numpy as np"
   ]
  },
  {
   "cell_type": "code",
   "execution_count": null,
   "id": "a11a5be9",
   "metadata": {},
   "outputs": [],
   "source": [
    "#Выгрузка изображения\n",
    "\n",
    "#Выгрузка в серых оттенках\n",
    "dog_gray = cv.imread('images/dog.jpg', cv.IMREAD_GRAYSCALE)\n",
    "\n",
    "'''\n",
    "cv.imshow('dog', dog_gray)\n",
    "cv.waitKey(0)\n",
    "cv.destroyAllWindows()\n",
    "'''\n",
    "\n",
    "plt.imshow(cv.cvtColor(dog_gray, cv.COLOR_BGR2RGB))\n",
    "plt.show()\n"
   ]
  },
  {
   "cell_type": "code",
   "execution_count": null,
   "id": "db74e686",
   "metadata": {},
   "outputs": [],
   "source": [
    "#Выгрузка изображения в цвете\n",
    "dog_clr = cv.imread('images/dog.jpg', cv.IMREAD_COLOR)\n",
    "\n",
    "'''\n",
    "cv.imshow('dog', dogImg_clr)\n",
    "cv.waitKey(0)\n",
    "cv.destroyAllWindows()\n",
    "'''\n",
    "\n",
    "plt.ion()\n",
    "plt.imshow(cv.cvtColor(dog_clr, cv.COLOR_BGR2RGB))"
   ]
  },
  {
   "cell_type": "code",
   "execution_count": null,
   "id": "95ba4732",
   "metadata": {},
   "outputs": [],
   "source": [
    "#Вывод изображения при помощи pyplot\n",
    "def show_img(img):\n",
    "    plt.ion()\n",
    "    plt.imshow(cv.cvtColor(img, cv.COLOR_BGR2RGB))"
   ]
  },
  {
   "cell_type": "code",
   "execution_count": null,
   "id": "d0005dff",
   "metadata": {},
   "outputs": [],
   "source": [
    "def show_img_cv(name, img):\n",
    "    cv.imshow(name, img)\n",
    "    cv.waitKey(0)\n",
    "    cv.destroyAllWindows()"
   ]
  },
  {
   "cell_type": "code",
   "execution_count": null,
   "id": "f92eb7a7",
   "metadata": {},
   "outputs": [],
   "source": [
    "#Получение свойств изображения\n",
    "def print_shape(img):\n",
    "    print('Высота изображения:', img.shape[0], sep=' ', end='\\n')\n",
    "    print('Ширина изображения:', img.shape[1], sep=' ', end='\\n')\n",
    "    print('Число каналов изображения:', img.shape[2], sep=' ', end='\\n')\n",
    "    \n",
    "print_shape(dog_clr)"
   ]
  },
  {
   "cell_type": "code",
   "execution_count": null,
   "id": "5c467148",
   "metadata": {
    "scrolled": true
   },
   "outputs": [],
   "source": [
    "#Измененение размера изображения\n",
    "res_img = cv.resize(dog_clr, (900, 500))\n",
    "show_img(res_img)"
   ]
  },
  {
   "cell_type": "code",
   "execution_count": null,
   "id": "5740a8a1",
   "metadata": {
    "scrolled": true
   },
   "outputs": [],
   "source": [
    "#Изменение размера изображение с указанием метода интерполяции.\n",
    "    #(Интерполяция — это алгоритм, \n",
    "    #который находит неизвестные промежуточные значения по имеющемуся набору известных значений)\n",
    "#Метод интерполяции - интерполяция методом ближайшего соседа\n",
    "res_img = cv.resize(dog_clr, (400, 320), cv.INTER_NEAREST)\n",
    "show_img(res_img)"
   ]
  },
  {
   "cell_type": "code",
   "execution_count": null,
   "id": "405f661b",
   "metadata": {
    "scrolled": true
   },
   "outputs": [],
   "source": [
    "res_img = cv.resize(dog_clr, (400, 320), cv.INTER_LINEAR)\n",
    "show_img(res_img)"
   ]
  },
  {
   "cell_type": "code",
   "execution_count": null,
   "id": "47fb46f5",
   "metadata": {},
   "outputs": [],
   "source": [
    "#Функция изменения размера изображения с учетом пропорциональных соотношений сторон\n",
    "def resize_image(img, new_height=None, new_width=None, inter=cv.INTER_NEAREST):\n",
    "    h, w = img.shape[:2]\n",
    "    \n",
    "    if new_height is None and new_width is None:\n",
    "        return img\n",
    "    \n",
    "    if new_height is None:\n",
    "        ratio = new_width / w\n",
    "        dimension = (new_width, int(ratio * h))\n",
    "        \n",
    "    else:\n",
    "        ratio = new_height / h\n",
    "        dimension = (int(ratio * w), new_height)\n",
    "    \n",
    "    return cv.resize(img, dimension, interpolation=inter)"
   ]
  },
  {
   "cell_type": "code",
   "execution_count": null,
   "id": "84e2b492",
   "metadata": {
    "scrolled": true
   },
   "outputs": [],
   "source": [
    "res_img = resize_image(dog_clr,new_height=50)\n",
    "show_img(res_img)"
   ]
  },
  {
   "cell_type": "code",
   "execution_count": null,
   "id": "d073e84e",
   "metadata": {
    "scrolled": true
   },
   "outputs": [],
   "source": [
    "res_img = resize_image(dog_clr, new_width=500)\n",
    "show_img(res_img)"
   ]
  },
  {
   "cell_type": "code",
   "execution_count": null,
   "id": "731a4fdd",
   "metadata": {
    "scrolled": false
   },
   "outputs": [],
   "source": [
    "#Памятка простейших афинных преобразований\n",
    "plt.figure(figsize=[15, 15])\n",
    "show_img(cv.imread('images/AffineHelp.jpg'))"
   ]
  },
  {
   "cell_type": "code",
   "execution_count": null,
   "id": "59a772ce",
   "metadata": {
    "scrolled": true
   },
   "outputs": [],
   "source": [
    "#Перенос\n",
    "def translation(img, tx, ty):\n",
    "    h, w = img.shape[:2]\n",
    "    trans_matrix = np.float32([[1, 0, tx], [0, 1, ty]])\n",
    "    return cv.warpAffine(img, trans_matrix, (w, h))\n",
    "\n",
    "show_img(translation(dog_clr, 200, 300))"
   ]
  },
  {
   "cell_type": "code",
   "execution_count": null,
   "id": "d2599ac6",
   "metadata": {
    "scrolled": true
   },
   "outputs": [],
   "source": [
    "show_img(translation(dog_clr, -200, -100))"
   ]
  },
  {
   "cell_type": "code",
   "execution_count": null,
   "id": "9d6c9f8f",
   "metadata": {
    "scrolled": true
   },
   "outputs": [],
   "source": [
    "#Масштабирование\n",
    "def dilatation(img, a, b):\n",
    "    h, w = img.shape[:2]\n",
    "    dilat_matrix = np.float32([[a, 0, 0], [0, b, 0]])\n",
    "    return cv.warpAffine(img, dilat_matrix, (w, h))\n",
    "\n",
    "show_img(dilatation(dog_clr, 4, 3))"
   ]
  },
  {
   "cell_type": "code",
   "execution_count": null,
   "id": "cc08abae",
   "metadata": {},
   "outputs": [],
   "source": [
    "#Совместим с масштабирование с переносом\n",
    "dummy_img = translation(dog_clr, -200, -300)\n",
    "dummy_img = dilatation(dummy_img, 2, 2)\n",
    "show_img(dummy_img)"
   ]
  },
  {
   "cell_type": "code",
   "execution_count": null,
   "id": "d5348d58",
   "metadata": {},
   "outputs": [],
   "source": [
    "#Вырезание изображения\n",
    "def cropping(img, x_start, x_end, y_start, y_end):\n",
    "    return img[y_start:y_end, x_start:x_end]\n",
    "\n",
    "show_img(cropping(dog_clr, 200, 520, 350, 700))"
   ]
  },
  {
   "cell_type": "code",
   "execution_count": null,
   "id": "9452c102",
   "metadata": {
    "scrolled": false
   },
   "outputs": [],
   "source": [
    "#Отражение\n",
    "show_img(cv.flip(dog_clr, 1))"
   ]
  },
  {
   "cell_type": "code",
   "execution_count": null,
   "id": "c4b0ae82",
   "metadata": {},
   "outputs": [],
   "source": [
    "#Поворот (вращение)\n",
    "def rotation(img, deg, scale):\n",
    "    h, w = img.shape[:2]\n",
    "    center = (int(w/2), int(h/2))\n",
    "    rotat_matrix = cv.getRotationMatrix2D(center, deg, scale)\n",
    "    return cv.warpAffine(img, rotat_matrix, (w, h))\n",
    "\n",
    "dog_roll_fig = plt.figure(figsize=(10, 10))\n",
    "\n",
    "dog_roll_fig.add_subplot(2, 2, 1)\n",
    "show_img(cropping(dog_clr, 200, 520, 350, 700))\n",
    "\n",
    "dog_roll_fig.add_subplot(2, 2, 2)\n",
    "show_img(cv.flip(cropping(dog_clr, 200, 520, 350, 700), 1))\n",
    "\n",
    "dog_roll_fig.add_subplot(2, 2, 3)\n",
    "show_img(rotation(cropping(dog_clr, 200, 520, 350, 700), 90, 1.1))  \n",
    "\n",
    "dog_roll_fig.add_subplot(2, 2, 4)\n",
    "show_img(rotation(cv.flip(cropping(dog_clr, 200, 520, 350, 700), 1), -90, 1.1)) "
   ]
  },
  {
   "cell_type": "code",
   "execution_count": null,
   "id": "0da4f195",
   "metadata": {},
   "outputs": [],
   "source": [
    "rect_img = cv.imread('rectangles.png', cv.IMREAD_COLOR)\n",
    "b, g, r = cv.split(rect_img)\n",
    "clr_fig = plt.figure(figsize=(15, 20))\n",
    "\n",
    "clr_fig.add_subplot(1, 4, 1)\n",
    "plt.gca().set_title('orig image')\n",
    "show_img(rect_img)\n",
    "\n",
    "clr_fig.add_subplot(1, 4, 2)\n",
    "plt.gca().set_title('blue')\n",
    "show_img(b)\n",
    "\n",
    "clr_fig.add_subplot(1, 4, 3)\n",
    "plt.gca().set_title('green')\n",
    "show_img(g)\n",
    "\n",
    "clr_fig.add_subplot(1, 4, 4)\n",
    "plt.gca().set_title('red')\n",
    "show_img(r)"
   ]
  },
  {
   "cell_type": "code",
   "execution_count": null,
   "id": "b86db18b",
   "metadata": {},
   "outputs": [],
   "source": [
    "b, g, r = cv.split(dog_clr)\n",
    "clr_fig = plt.figure(figsize=(15, 20))\n",
    "\n",
    "clr_fig.add_subplot(1, 4, 1)\n",
    "plt.gca().set_title('orig image')\n",
    "show_img(dog_clr)\n",
    "\n",
    "clr_fig.add_subplot(1, 4, 2)\n",
    "plt.gca().set_title('blue')\n",
    "show_img(b)\n",
    "\n",
    "clr_fig.add_subplot(1, 4, 3)\n",
    "plt.gca().set_title('green')\n",
    "show_img(g)\n",
    "\n",
    "clr_fig.add_subplot(1, 4, 4)\n",
    "plt.gca().set_title('red')\n",
    "show_img(r)"
   ]
  },
  {
   "cell_type": "code",
   "execution_count": null,
   "id": "d5d6571e",
   "metadata": {},
   "outputs": [],
   "source": [
    "#Усредненное размытие\n",
    "fig = plt.figure(figsize=(15, 5))\n",
    "fig.suptitle('Average Blurring')\n",
    "\n",
    "fig.add_subplot(1, 3, 1)\n",
    "plt.gca().set_title('3x3')\n",
    "show_img(cv.blur(dog_clr, (3,3)))\n",
    "\n",
    "fig.add_subplot(1, 3, 2)\n",
    "plt.gca().set_title('7x7')\n",
    "show_img(cv.blur(dog_clr, (7,7)))\n",
    "\n",
    "fig.add_subplot(1, 3, 3)\n",
    "plt.gca().set_title('11x11')\n",
    "show_img(cv.blur(dog_clr, (11,11)))"
   ]
  },
  {
   "cell_type": "code",
   "execution_count": null,
   "id": "fbf5fe7b",
   "metadata": {},
   "outputs": [],
   "source": [
    "#Гауссовское размытие\n",
    "fig = plt.figure(figsize=(15, 5))\n",
    "fig.suptitle('Average Blurring')\n",
    "\n",
    "fig.add_subplot(1, 3, 1)\n",
    "plt.gca().set_title('3x3, auto')\n",
    "show_img(cv.GaussianBlur(dog_clr, (3,3), 0))\n",
    "\n",
    "fig.add_subplot(1, 3, 2)\n",
    "plt.gca().set_title('7x7, auto')\n",
    "show_img(cv.GaussianBlur(dog_clr, (7,7), 0))\n",
    "\n",
    "fig.add_subplot(1, 3, 3)\n",
    "plt.gca().set_title('11x11, auto')\n",
    "show_img(cv.GaussianBlur(dog_clr, (11,11), 0))"
   ]
  },
  {
   "cell_type": "code",
   "execution_count": null,
   "id": "6513fadf",
   "metadata": {},
   "outputs": [],
   "source": [
    "#Медианное размытие\n",
    "fig = plt.figure(figsize=(15, 5))\n",
    "fig.suptitle('Average Blurring')\n",
    "\n",
    "fig.add_subplot(1, 3, 1)\n",
    "plt.gca().set_title('3')\n",
    "show_img(cv.medianBlur(dog_clr, 3))\n",
    "\n",
    "fig.add_subplot(1, 3, 2)\n",
    "plt.gca().set_title('7')\n",
    "show_img(cv.medianBlur(dog_clr, 7))\n",
    "\n",
    "fig.add_subplot(1, 3, 3)\n",
    "plt.gca().set_title('11')\n",
    "show_img(cv.medianBlur(dog_clr, 11))"
   ]
  },
  {
   "cell_type": "code",
   "execution_count": null,
   "id": "c3c2fe72",
   "metadata": {},
   "outputs": [],
   "source": [
    "dog_clr = cropping(dog_clr, 0, 635, 0, 795)\n",
    "\n",
    "fig = plt.figure(figsize=(15, 5))\n",
    "\n",
    "fig.add_subplot(1, 3, 1)\n",
    "show_img(dog_clr)\n",
    "\n",
    "clean_dog_gray = cv.GaussianBlur(dog_gray, (3,3), 0)\n",
    "T, thresh_dog_gray = cv.threshold(clean_dog_gray, 85, 255, cv.THRESH_BINARY)\n",
    "fig.add_subplot(1, 3, 2)\n",
    "show_img(thresh_dog_gray)\n",
    "\n",
    "contours, hierarchy = cv.findContours(thresh_dog_gray, cv.RETR_TREE, cv.CHAIN_APPROX_SIMPLE)\n",
    "contour_dog = cv.drawContours(dog_clr.copy(), contours, -1, (0, 255, 0), 3)\n",
    "fig.add_subplot(1, 3, 3)\n",
    "show_img(contour_dog)"
   ]
  },
  {
   "cell_type": "code",
   "execution_count": null,
   "id": "8c586fab",
   "metadata": {},
   "outputs": [],
   "source": [
    "cards_img = cv.imread('cards.jpeg', cv.IMREAD_COLOR)\n",
    "\n",
    "cards_img = cv.GaussianBlur(cards_img, (3, 3), 0)\n",
    "T, thresh_cards = cv.threshold(cv.cvtColor(cards_img, cv.COLOR_BGR2GRAY), 200, 255, cv.THRESH_BINARY)\n",
    "cards_contours, cards_hierarchy = cv.findContours(thresh_cards, cv.RETR_EXTERNAL, cv.CHAIN_APPROX_SIMPLE)\n",
    "\n",
    "show_img(thresh_cards)"
   ]
  },
  {
   "cell_type": "code",
   "execution_count": null,
   "id": "afe6b66d",
   "metadata": {
    "scrolled": false
   },
   "outputs": [],
   "source": [
    "cards_rect = cards_img.copy()\n",
    "for cntrs in cards_contours:\n",
    "    x, y, w, h = cv.boundingRect(cntrs)\n",
    "    if w > 15 and h > 20:\n",
    "        rect = cv.rectangle(cards_rect, (x, y), (x+w, y+h), (0, 255, 0), 2)\n",
    "        \n",
    "plt.figure(figsize=(20, 10))\n",
    "show_img(cards_rect)"
   ]
  },
  {
   "cell_type": "code",
   "execution_count": null,
   "id": "06876e0a",
   "metadata": {
    "scrolled": true
   },
   "outputs": [],
   "source": [
    "cards_set = cv.imread('cards_set.png', cv.IMREAD_COLOR)\n",
    "print_shape(cards_set)\n",
    "show_img(cards_set)"
   ]
  },
  {
   "cell_type": "code",
   "execution_count": null,
   "id": "90f4d4d2",
   "metadata": {
    "scrolled": false
   },
   "outputs": [],
   "source": [
    "fig = plt.figure(figsize=(15, 5))\n",
    "\n",
    "T, thresh_cards_set = cv.threshold(cv.cvtColor(cards_set, cv.COLOR_BGR2GRAY), 210, 255, cv.THRESH_BINARY)\n",
    "cards_contours, cards_hierarchy = cv.findContours(thresh_cards_set, cv.RETR_EXTERNAL, cv.CHAIN_APPROX_SIMPLE)\n",
    "\n",
    "x, y, w, h = cv.boundingRect(cards_contours[0])\n",
    "fig.add_subplot(1, 3, 1)\n",
    "show_img(cropping(cards_set, x, x+w, y, y+h))\n",
    "\n",
    "x, y, w, h = cv.boundingRect(cards_contours[1])\n",
    "fig.add_subplot(1, 3, 2)\n",
    "show_img(cropping(cards_set, x, x+w, y, y+h))\n",
    "\n",
    "x, y, w, h = cv.boundingRect(cards_contours[13])\n",
    "fig.add_subplot(1, 3, 3)\n",
    "show_img(cropping(cards_set, x, x+w, y, y+h))"
   ]
  },
  {
   "cell_type": "code",
   "execution_count": null,
   "id": "3a4bef1b",
   "metadata": {
    "scrolled": false
   },
   "outputs": [],
   "source": [
    "cards_attributes_dict = {}\n",
    "nominals=['king', 'queen', 'jack', 'ten', 'nine', 'eight', 'seven', \n",
    "          'six', 'five', 'four', 'three', 'two', 'ace']\n",
    "suits = ['_of_clubs', '_of_diamonds', '_of_hearts', '_of_spades']\n",
    "nominal_cntr = 1\n",
    "for suit in suits:\n",
    "    for nominal in nominals:\n",
    "        name = nominal+suit\n",
    "        cards_attributes_dict[name] = cv.boundingRect(cards_contours[nominal_cntr - 1])\n",
    "        nominal_cntr += 1\n",
    "\n",
    "#print(cards_attributes_dict)\n",
    "\n",
    "\n",
    "#Проверим составленный словарь\n",
    "fig = plt.figure(figsize=(20, 10))\n",
    "\n",
    "nominal_cntr = 1\n",
    "for suit in suits:\n",
    "    for nominal in nominals:\n",
    "        fig.add_subplot(4, 13, nominal_cntr)\n",
    "        name = nominal+suit\n",
    "        x, y, w, h = cards_attributes_dict[name]\n",
    "        show_img(cropping(cards_set, x, x+w, y, y+h))\n",
    "        nominal_cntr += 1"
   ]
  },
  {
   "cell_type": "code",
   "execution_count": null,
   "id": "8ec91550",
   "metadata": {},
   "outputs": [],
   "source": [
    "x, y, w, h = cards_attributes_dict['ace_of_spades']\n",
    "ace1 = cropping(cards_set, x, x+w, y, y+h)\n",
    "ace2 = cropping(cards_set, x, x+w, y, y+h)\n",
    "\n",
    "sift = cv.SIFT_create()\n",
    "\n",
    "kp1, des1 = sift.detectAndCompute(ace1, None)\n",
    "kp2, des2 = sift.detectAndCompute(ace2, None)\n",
    "\n",
    "bf = cv.BFMatcher()\n",
    "matches = bf.knnMatch(des1,des2,k=2)\n",
    "\n",
    "good = []\n",
    "for m,n in matches:\n",
    "    if m.distance < 0.75*n.distance:\n",
    "        good.append([m])\n",
    "\n",
    "print(len(good) > len(matches) * 0.9)\n"
   ]
  },
  {
   "cell_type": "code",
   "execution_count": null,
   "id": "24d8c451",
   "metadata": {},
   "outputs": [],
   "source": [
    "def identify_card(img, cards_set, cards_attributes_dict):\n",
    "    result_name = None\n",
    "    \n",
    "    min_match_count = 10\n",
    "    \n",
    "    sift = cv.SIFT_create()\n",
    "    \n",
    "    FLANN_INDEX_KDTREE = 1\n",
    "    index_params = dict(algorithm = FLANN_INDEX_KDTREE, trees = 5)\n",
    "    search_params = dict(checks = 50)\n",
    "    flann = cv.FlannBasedMatcher(index_params, search_params)\n",
    "    \n",
    "    \n",
    "    kp1, des1 = sift.detectAndCompute(img, None)\n",
    "    \n",
    "    for card_name in cards_attributes_dict.keys():\n",
    "        if result_name is not None:\n",
    "            break\n",
    "            \n",
    "        x, y, w, h = cards_attributes_dict[card_name]\n",
    "        img2 = cropping(cards_set, x-10, x+w+10, y-10, y+h+10)\n",
    "        \n",
    "        kp2, des2 = sift.detectAndCompute(img2, None)\n",
    "        matches = flann.knnMatch(des1, des2, k=2)\n",
    "        \n",
    "        good = []\n",
    "        for m,n in matches:\n",
    "            if m.distance < 0.7*n.distance:\n",
    "                good.append([m])\n",
    "        \n",
    "        if (len(good) >= min_match_count):\n",
    "            result_name = card_name\n",
    "        \n",
    "\n",
    "    return result_name\n",
    "\n",
    "print(identify_card(ace1, cards_set, cards_attributes_dict))"
   ]
  },
  {
   "cell_type": "code",
   "execution_count": null,
   "id": "0ec8f3e9",
   "metadata": {},
   "outputs": [],
   "source": [
    "nine_of_clubs = cv.imread('nine_of_clubs.png', cv.IMREAD_COLOR)\n",
    "print(identify_card(nine_of_clubs, cards_set, cards_attributes_dict))"
   ]
  },
  {
   "cell_type": "code",
   "execution_count": null,
   "id": "f44e9e47",
   "metadata": {},
   "outputs": [],
   "source": [
    "def find_identify_cards(img, cards_set, cards_attributes_dict):\n",
    "    img = cv.GaussianBlur(img, (3, 3), 0)\n",
    "    T, thresh_img = cv.threshold(cv.cvtColor(img, cv.COLOR_BGR2GRAY), 180, 255, cv.THRESH_BINARY)\n",
    "    img_contours, img_hierarchy = cv.findContours(thresh_img, cv.RETR_EXTERNAL, cv.CHAIN_APPROX_SIMPLE)\n",
    "    for cntrs in img_contours:\n",
    "        x, y, w, h = cv.boundingRect(cntrs)\n",
    "        if ((w/h - 0.665) <= 0.335) or ((h/w - 0.665) <= 0.335):\n",
    "            curr_img = cropping(img, x, x+w, y, y+h)\n",
    "            show_img(curr_img)\n",
    "            card_name = identify_card(curr_img, cards_set, cards_attributes_dict) \n",
    "\n",
    "            img = cv.rectangle(img, (x, y), (x+w, y+h), (0, 255, 0), 2)\n",
    "            cv.putText(img, card_name, (x, y-10), cv.FONT_HERSHEY_SIMPLEX, 0.5, (0, 255, 0), 1)\n",
    "            \n",
    "    return img\n"
   ]
  },
  {
   "cell_type": "code",
   "execution_count": null,
   "id": "0517416f",
   "metadata": {},
   "outputs": [],
   "source": [
    "plt.figure(figsize=(20, 10))\n",
    "cards = cv.imread('mycards.jpg', cv.IMREAD_COLOR)\n",
    "#show_img(find_identify_cards(cards, cards_set, cards_attributes_dict))"
   ]
  },
  {
   "cell_type": "code",
   "execution_count": null,
   "id": "a7cac73f",
   "metadata": {},
   "outputs": [],
   "source": [
    "\"\"\"\n",
    "#import argparse\n",
    "#'home/grand/anaconda3/share/opencv4/haarcascades/dog.xml'\n",
    "dog_classifier = 'home/grand/anaconda3/share/opencv4/haarcascades/dog.xml'\n",
    "dog_tracker = cv.CascadeClassifier(dog_classifier)\n",
    "dogs = dog_tracker.detectMultiScale(dog_gray)\n",
    "\n",
    "newDog = dog_clr.copy()\n",
    "for x,y,w,h in dogs:\n",
    "    cv.rectangle(newDog, (x, y), (x+w, y+h), (0, 255, 0), 2)\n",
    "    cv.putText(newDog, 'Dog', (x, y), cv.FONT_HERSHEY_SIMPLEX, 0.7, (0, 255, 0), 2)\n",
    "    \n",
    "show_img(newDog)\n",
    "\"\"\"\n"
   ]
  },
  {
   "cell_type": "code",
   "execution_count": null,
   "id": "374b0446",
   "metadata": {
    "scrolled": false
   },
   "outputs": [],
   "source": [
    "\"\"\"\n",
    "sift = cv.xfeatures2d.SIFT_create()\n",
    "kp = sift.detect(dog_gray, None)\n",
    "dog_kp = cv.drawKeypoints(dog_gray, kp, dog_clr)\n",
    "\n",
    "plt.figure(figsize=(15, 15))\n",
    "show_img(dog_kp)\n",
    "\"\"\""
   ]
  },
  {
   "cell_type": "code",
   "execution_count": null,
   "id": "be1dfe3e",
   "metadata": {},
   "outputs": [],
   "source": [
    "'''\n",
    "first_dog = dilatation(dog_gray, 4, 3)\n",
    "second_dog = cropping(dog_gray, 200, 520, 350, 700)\n",
    "\n",
    "sift = cv.xfeatures2d.SIFT_create()\n",
    "\n",
    "kp1, ds1 = sift.detectAndCompute(first_dog, None)\n",
    "kp2, ds2 = sift.detectAndCompute(second_dog, None)\n",
    "\n",
    "bf = cv.BFMatcher(cv.NORM_L1, crossCheck=True)\n",
    "\n",
    "matches = bf.match(ds1, ds2)\n",
    "matches = sorted(matches, key = lambda x:x.distance)\n",
    "\n",
    "plt.figure(figsize=(15, 15))\n",
    "show_img(cv.drawMatches(first_dog, kp1, second_dog, kp2, matches[:50], second_dog, flags=2))\n",
    "'''"
   ]
  },
  {
   "cell_type": "code",
   "execution_count": null,
   "id": "2fe28288",
   "metadata": {},
   "outputs": [],
   "source": [
    "from IPython.display import display\n",
    "\n",
    "#show_img_cv('dog', dog_clr)"
   ]
  },
  {
   "cell_type": "code",
   "execution_count": null,
   "id": "e95a95b5",
   "metadata": {},
   "outputs": [],
   "source": [
    "#Доделать обработку изображения\n",
    "#---------------------------Работа с видеозаписью---------------------------------"
   ]
  },
  {
   "cell_type": "code",
   "execution_count": null,
   "id": "c28392fb",
   "metadata": {},
   "outputs": [],
   "source": [
    "'''\n",
    "cam = cv.VideoCapture(0)\n",
    "while True:\n",
    "    ret, frame = cam.read()\n",
    "    if not ret:\n",
    "        print('Does not working...')\n",
    "        break\n",
    "    cv.imshow('frame', frame)\n",
    "    if cv.waitKey(1) == ord('q'):\n",
    "        break\n",
    "    \n",
    "cam.release()\n",
    "cv.destroyAllWindows()\n",
    "'''"
   ]
  },
  {
   "cell_type": "code",
   "execution_count": 2,
   "id": "055dfae2",
   "metadata": {},
   "outputs": [],
   "source": [
    "def detectAndPrint(frame):\n",
    "    frame_gray = cv.cvtColor(frame, cv.COLOR_BGR2GRAY)\n",
    "    frame_gray = cv.equalizeHist(frame_gray)\n",
    "    \n",
    "    faces = face_cascade.detectMultiScale(frame_gray)\n",
    "    for (x, y, w, h) in faces:\n",
    "        center = (x, y)\n",
    "        frame = cv.rectangle(frame, center, (x+w, y+h), (0, 255, 0), 2)\n",
    "    \n",
    "    cv.imshow('Face Detection', frame)\n",
    "    \n",
    "face_cascade_name = 'haarcascade_frontalface_alt.xml'\n",
    "eyes_cascade_name = 'haarcascade_eye_tree_eyeglasses.xml'\n",
    "\n",
    "face_cascade = cv.CascadeClassifier(cv.data.haarcascades + face_cascade_name)\n",
    "eyes_cascade = cv.CascadeClassifier()\n",
    "\n",
    "cam = cv.VideoCapture(0)\n",
    "while True:\n",
    "    ret, frame = cam.read()\n",
    "    \n",
    "    if not ret:\n",
    "        print('Camera capture not working...', end='\\n')\n",
    "        break\n",
    "        \n",
    "    detectAndPrint(frame)   \n",
    "    if cv.waitKey(1) == ord('q'):\n",
    "        break\n",
    "cam.release()\n",
    "cv.destroyAllWindows()"
   ]
  },
  {
   "cell_type": "code",
   "execution_count": null,
   "id": "d8c5b73a",
   "metadata": {},
   "outputs": [],
   "source": []
  }
 ],
 "metadata": {
  "kernelspec": {
   "display_name": "Python 3 (ipykernel)",
   "language": "python",
   "name": "python3"
  },
  "language_info": {
   "codemirror_mode": {
    "name": "ipython",
    "version": 3
   },
   "file_extension": ".py",
   "mimetype": "text/x-python",
   "name": "python",
   "nbconvert_exporter": "python",
   "pygments_lexer": "ipython3",
   "version": "3.9.12"
  }
 },
 "nbformat": 4,
 "nbformat_minor": 5
}
