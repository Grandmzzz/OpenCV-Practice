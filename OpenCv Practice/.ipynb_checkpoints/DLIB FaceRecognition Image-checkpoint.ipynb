{
 "cells": [
  {
   "cell_type": "code",
   "execution_count": 1,
   "id": "6dcb438e",
   "metadata": {},
   "outputs": [
    {
     "ename": "ModuleNotFoundError",
     "evalue": "No module named 'face_recognition'",
     "output_type": "error",
     "traceback": [
      "\u001b[0;31m---------------------------------------------------------------------------\u001b[0m",
      "\u001b[0;31mModuleNotFoundError\u001b[0m                       Traceback (most recent call last)",
      "Cell \u001b[0;32mIn [1], line 1\u001b[0m\n\u001b[0;32m----> 1\u001b[0m \u001b[38;5;28;01mimport\u001b[39;00m \u001b[38;5;21;01mface_recognition\u001b[39;00m\n\u001b[1;32m      2\u001b[0m \u001b[38;5;28;01mimport\u001b[39;00m \u001b[38;5;21;01mcv2\u001b[39;00m \u001b[38;5;28;01mas\u001b[39;00m \u001b[38;5;21;01mcv\u001b[39;00m\n\u001b[1;32m      3\u001b[0m \u001b[38;5;28;01mimport\u001b[39;00m \u001b[38;5;21;01mmatplotlib\u001b[39;00m\u001b[38;5;21;01m.\u001b[39;00m\u001b[38;5;21;01mpyplot\u001b[39;00m \u001b[38;5;28;01mas\u001b[39;00m \u001b[38;5;21;01mplt\u001b[39;00m\n",
      "\u001b[0;31mModuleNotFoundError\u001b[0m: No module named 'face_recognition'"
     ]
    }
   ],
   "source": [
    "import face_recognition\n",
    "import cv2 as cv\n",
    "import matplotlib.pyplot as plt"
   ]
  },
  {
   "cell_type": "code",
   "execution_count": null,
   "id": "31c1e57c",
   "metadata": {},
   "outputs": [],
   "source": [
    "def show_image(img):\n",
    "    cv.imshow('Image',cv.cvtColor(img, cv.COLOR_RGB2BGR))\n",
    "    cv.waitKey(0)\n",
    "    cv.destroyAllWindows()"
   ]
  },
  {
   "cell_type": "code",
   "execution_count": 3,
   "id": "bffd949c",
   "metadata": {},
   "outputs": [
    {
     "name": "stdout",
     "output_type": "stream",
     "text": [
      "Найдено 1 лиц(-о) на изображении\n",
      "Координаты найденных лиц - [(112, 527, 379, 260)]\n"
     ]
    }
   ],
   "source": [
    "mads_image = face_recognition.load_image_file('images/mads.jpg')\n",
    "mads_face_location = face_recognition.face_locations(mads_image)\n",
    "\n",
    "print('Найдено %i лиц(-о) на изображении\\nКоординаты найденных лиц - ' %len(mads_face_location), \n",
    "      mads_face_location, sep='', end='\\n')\n",
    "\n",
    "mads_rect = mads_image.copy()\n",
    "for (top, right, bottom, left) in mads_face_location:\n",
    "    mads_rect = cv.rectangle(mads_rect, (left, top), (right, bottom), (0, 255, 0), 2)\n",
    "show_image(mads_rect)"
   ]
  },
  {
   "cell_type": "code",
   "execution_count": null,
   "id": "ffb44cf0",
   "metadata": {},
   "outputs": [],
   "source": [
    "soprano_image = face_recognition.load_image_file('images/soprano.jpg')\n",
    "soprano_face_location = face_recognition.face_locations(soprano_image)\n",
    "\n",
    "print('Найдено %i лиц(-о) на изображении\\nКоординаты найденных лиц - ' %len(soprano_face_location), \n",
    "      soprano_face_location, sep='', end='\\n')\n",
    "\n",
    "soprano_rect = soprano_image.copy()\n",
    "for (top, right, bottom, left) in soprano_face_location:\n",
    "    soprano_rect = cv.rectangle(soprano_rect, (left, top), (right, bottom), (0, 255, 0), 2)\n",
    "show_image(soprano_rect)"
   ]
  },
  {
   "cell_type": "code",
   "execution_count": null,
   "id": "580e2829",
   "metadata": {},
   "outputs": [],
   "source": [
    "arnies_image = face_recognition.load_image_file('images/vottakvot.jpg')\n",
    "arnies_face_location = face_recognition.face_locations(arnies_image)\n",
    "\n",
    "print('Найдено %i лиц(-о) на изображении\\nКоординаты найденных лиц - ' %len(arnies_face_location), \n",
    "      arnies_face_location, sep='', end='\\n')\n",
    "\n",
    "arnies_rect = arnies_image.copy()\n",
    "for (top, right, bottom, left) in arnies_face_location:\n",
    "    arnies_rect = cv.rectangle(arnies_rect, (left, top), (right, bottom), (0, 255, 0), 2)\n",
    "show_image(arnies_rect)"
   ]
  },
  {
   "cell_type": "code",
   "execution_count": null,
   "id": "3bd9a4b4",
   "metadata": {},
   "outputs": [],
   "source": [
    "def get_faces(img):\n",
    "    faces = []\n",
    "    face_locations = face_recognition.face_locations(img)\n",
    "    for (top, right, bottom, left) in face_locations:\n",
    "        faces.append(img.copy()[top:bottom, left:right])\n",
    "\n",
    "    return faces"
   ]
  },
  {
   "cell_type": "code",
   "execution_count": null,
   "id": "752c896e",
   "metadata": {},
   "outputs": [],
   "source": [
    "img_faces = get_faces(arnies_image)\n",
    "\n",
    "figure = plt.figure(figsize=(10, 10))\n",
    "\n",
    "figure.add_subplot(1, 2, 1)\n",
    "plt.imshow(img_faces[0])\n",
    "\n",
    "figure.add_subplot(1, 2, 2)\n",
    "plt.imshow(img_faces[1])"
   ]
  },
  {
   "cell_type": "code",
   "execution_count": null,
   "id": "0e467731",
   "metadata": {},
   "outputs": [],
   "source": []
  }
 ],
 "metadata": {
  "kernelspec": {
   "display_name": "CVision-kernel",
   "language": "python",
   "name": "cvision-kernel"
  },
  "language_info": {
   "codemirror_mode": {
    "name": "ipython",
    "version": 3
   },
   "file_extension": ".py",
   "mimetype": "text/x-python",
   "name": "python",
   "nbconvert_exporter": "python",
   "pygments_lexer": "ipython3",
   "version": "3.10.6"
  }
 },
 "nbformat": 4,
 "nbformat_minor": 5
}
